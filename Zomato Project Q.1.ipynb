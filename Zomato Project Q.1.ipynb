{
 "cells": [
  {
   "cell_type": "code",
   "execution_count": 36,
   "metadata": {},
   "outputs": [
    {
     "data": {
      "image/png": "[encoded data removed]",
      "text/plain": [
       "<Figure size 432x288 with 1 Axes>"
      ]
     },
     "metadata": {
      "needs_background": "light"
     },
     "output_type": "display_data"
    }
   ],
   "source": [
    "\"\"\"\n",
    "The dataset is highly skewed toward the cities included in Delhi-NCR. \n",
    "So, we will summarise all the other cities in Rest of India while those in New Delhi, \n",
    "Ghaziabad, Noida, Gurgaon, Faridabad to Delhi-NCR. Doing this would make our \n",
    "analysis turn toward Delhi-NCR v Rest of India.\n",
    "\n",
    "1. Plot the bar graph of number of restaurants present in Delhi NCR vs Rest of India.\n",
    "Write a short detailed analysis of how cuisine served is different from Delhi NCR to Rest of India. Plot the suitable graph to explain your inference.\n",
    "\"\"\"\n",
    "\n",
    "\n",
    "\n",
    "\n",
    "\n",
    "# Packages\n",
    "import requests\n",
    "import pandas as pd\n",
    "import numpy as np\n",
    "import matplotlib.pyplot as plt\n",
    "\n",
    "\n",
    "# Load Dataset\n",
    "zomato_df =  pd.read_csv(\"zomato_utf.csv\")\n",
    "# Only Indian Restaurants\n",
    "zomato_df = zomato_df[zomato_df['Country Code']==1]\n",
    "\n",
    "# Delhi-NCR cities \n",
    "delhi_ncr = {'New Delhi', 'Ghaziabad', 'Noida', 'Gurgaon', 'Faridabad'}\n",
    "# \n",
    "cities_group_restaurant_count = {'Delhi_NCR':0,'Rest_of_India':0}\n",
    "\n",
    "def city(city_name):\n",
    "    if city_name in delhi_ncr:\n",
    "        cities_group_restaurant_count['Delhi_NCR']+=1\n",
    "        return \"Delhi_NCR\"\n",
    "    else:\n",
    "        cities_group_restaurant_count['Rest_of_India']+=1\n",
    "        return \"Rest_of_India\"\n",
    "\n",
    "# Update city_name with group name for future use.\n",
    "zomato_df_with_group_city = zomato_df.copy()\n",
    "zomato_df_with_group_city['City'] = zomato_df_with_group_city['City'].apply(city)\n",
    "\n",
    "\n",
    "group_name = []\n",
    "restaurant_count = []\n",
    "for key,value in cities_group_restaurant_count.items():\n",
    "    group_name.append(key)\n",
    "    restaurant_count.append(value)\n",
    "\n",
    "\n",
    "plt.bar(group_name,restaurant_count)\n",
    "plt.xticks(rotation=0)\n",
    "plt.show()\n",
    "\n",
    "\n"
   ]
  },
  {
   "cell_type": "code",
   "execution_count": 40,
   "metadata": {},
   "outputs": [
    {
     "name": "stdout",
     "output_type": "stream",
     "text": [
      "German Cajun Malwani BBQ\n"
     ]
    },
    {
     "data": {
      "text/plain": [
       "True"
      ]
     },
     "execution_count": 40,
     "metadata": {},
     "output_type": "execute_result"
    }
   ],
   "source": [
    "\"\"\"\n",
    "2. Find the cuisines which are not present in restaurant of Delhi NCR but present in rest of India.\n",
    "Check using Zomato API whether this cuisines are actually not served in restaurants of Delhi-NCR \n",
    "or just it due to incomplete dataset.\n",
    "\n",
    "Answer : With given dataset I have found four cuisine names where are not present in Delhi-NCR restaurants and they are\n",
    "German Cajun Malwani BBQ but after checking with Zomato API I have found that some of them are present in Delhi-NCR\n",
    "restaurants. So dataset have some missing data. \n",
    "\n",
    "\n",
    "\n",
    "\"\"\"\n",
    "zomato_df_with_group_city[\"City_Cuisines\"] = zomato_df_with_group_city['City'] + \"###\" + zomato_df_with_group_city['Cuisines']\n",
    "\n",
    "# Store cuisines depending on their city \n",
    "restaurant_cuisines = set()\n",
    "delhi_ncr_cuisines = set()\n",
    "\n",
    "def city_cuisines(cuisines):\n",
    "    city = cuisines.split(\"###\")[0]\n",
    "    cuisines = cuisines.split(\"###\")[1].split(\", \")\n",
    "    if city==\"Delhi_NCR\":\n",
    "        for cuisine in cuisines:\n",
    "            delhi_ncr_cuisines.add(cuisine)\n",
    "    else:\n",
    "        for cuisine in cuisines:\n",
    "            restaurant_cuisines.add(cuisine)\n",
    "    return cuisines\n",
    "            \n",
    "\n",
    "zomato_df_with_group_city[\"City_Cuisines\"].apply(city_cuisines)\n",
    "\n",
    "cuisines_not_in_delhi_ncr = []\n",
    "for cuisine in restaurant_cuisines:\n",
    "    if cuisine in delhi_ncr_cuisines:\n",
    "        continue\n",
    "    else:\n",
    "        cuisines_not_in_delhi_ncr.append(cuisine)\n",
    "\n",
    "\n",
    "\n",
    "print(*cuisines_not_in_delhi_ncr)\n",
    "        \n",
    "        \n",
    "# Verify with zomato's actual data\n",
    "headers = {'user-key': '1916a1cbf9ae3cca094d599c14b5bd23'}\n",
    "url = \"https://developers.zomato.com/api/v2.1/cuisines?city_id=1\"\n",
    "response = requests.get(url,headers=headers)\n",
    "cuisines = response.json()['cuisines']\n",
    "\n",
    "# Indicates whether cuisine present in Delhi-NCR or not\n",
    "check_present = False\n",
    "for cuisine in cuisines:\n",
    "    if cuisine['cuisine']['cuisine_name'] in cuisines_not_in_delhi_ncr:\n",
    "        check_present = True\n",
    "        break\n",
    "        \n",
    "check_present\n",
    "\n"
   ]
  },
  {
   "cell_type": "code",
   "execution_count": 48,
   "metadata": {},
   "outputs": [
    {
     "data": {
      "image/png": "[encoded data removed]",
      "text/plain": [
       "<Figure size 432x288 with 1 Axes>"
      ]
     },
     "metadata": {
      "needs_background": "light"
     },
     "output_type": "display_data"
    }
   ],
   "source": [
    "\"\"\"\n",
    "3. Find the top 10 cuisines served by maximum number of restaurants in Delhi NCR and rest of India.\n",
    "\n",
    "Answer: Top ten cuisines that are being servered in Delhi-NCR and Rest of India are \n",
    "a. North Indian\n",
    "b. Chinese\n",
    "c. Fast Food\n",
    "d. Mughlai\n",
    "e. Bakery\n",
    "f. Contental\n",
    "g. Italian\n",
    "h. South Indian\n",
    "i. Cafe\n",
    "j. Desserts\n",
    "\"\"\"\n",
    "\n",
    "cuisines_with_count = {}\n",
    "\n",
    "def get_cuisines(cuisines):\n",
    "#     print(type(cuisines))\n",
    "    list_cuisines = cuisines.split(\", \")\n",
    "    for cuisine in list_cuisines:\n",
    "        cuisines_with_count[cuisine] = cuisines_with_count.get(cuisine,0)+1\n",
    "\n",
    "zomato_df_with_group_city['Cuisines'].apply(get_cuisines)\n",
    "cuisine_name_count = []\n",
    "for key,value in cuisines_with_count.items():\n",
    "    cuisine_name_count.append([value,key])\n",
    "\n",
    "cuisine_name_count.sort(reverse = True)\n",
    "\n",
    "\n",
    "cuisines = [ i[1] for i in cuisine_name_count[:10]]\n",
    "counts = [ i[0] for i in cuisine_name_count[:10]]\n",
    "\n",
    "plt.bar(cuisines,counts)\n",
    "plt.xticks(rotation=45)\n",
    "plt.show()\n"
   ]
  }
 ],
 "metadata": {
  "kernelspec": {
   "display_name": "Python 3",
   "language": "python",
   "name": "python3"
  },
  "language_info": {
   "codemirror_mode": {
    "name": "ipython",
    "version": 3
   },
   "file_extension": ".py",
   "mimetype": "text/x-python",
   "name": "python",
   "nbconvert_exporter": "python",
   "pygments_lexer": "ipython3",
   "version": "3.7.4"
  }
 },
 "nbformat": 4,
 "nbformat_minor": 2
}
